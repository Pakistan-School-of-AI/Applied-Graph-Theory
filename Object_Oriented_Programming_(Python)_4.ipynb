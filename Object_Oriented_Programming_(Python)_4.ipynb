{
  "nbformat": 4,
  "nbformat_minor": 0,
  "metadata": {
    "colab": {
      "name": "Object Oriented Programming (Python)_4.ipynb",
      "provenance": [],
      "collapsed_sections": [],
      "authorship_tag": "ABX9TyN2+chKJQyJRobh7MeKu6a6",
      "include_colab_link": true
    },
    "kernelspec": {
      "name": "python3",
      "display_name": "Python 3"
    }
  },
  "cells": [
    {
      "cell_type": "markdown",
      "metadata": {
        "id": "view-in-github",
        "colab_type": "text"
      },
      "source": [
        "<a href=\"https://colab.research.google.com/github/Pakistan-School-of-AI/Applied-Graph-Theory/blob/master/Object_Oriented_Programming_(Python)_4.ipynb\" target=\"_parent\"><img src=\"https://colab.research.google.com/assets/colab-badge.svg\" alt=\"Open In Colab\"/></a>"
      ]
    },
    {
      "cell_type": "code",
      "metadata": {
        "id": "6shOK1fa2uOX",
        "colab_type": "code",
        "colab": {}
      },
      "source": [
        "class Student:\n",
        "  def __init__(self, name=None, age=0):\n",
        "    self.name = name\n",
        "    self.__age = age\n",
        "  def print(self):\n",
        "    print('Name: ', self.name)\n",
        "    print('Age: ', self.__age)"
      ],
      "execution_count": 3,
      "outputs": []
    },
    {
      "cell_type": "code",
      "metadata": {
        "id": "d_-dlDAf4eVt",
        "colab_type": "code",
        "colab": {
          "base_uri": "https://localhost:8080/",
          "height": 50
        },
        "outputId": "7427856a-3830-4966-f49e-95103e4f725f"
      },
      "source": [
        "hamed = Student('Hamed', 17)\n",
        "hamed.name = 'Hamed Raza'\n",
        "hamed.age = 20\n",
        "hamed.print()"
      ],
      "execution_count": 6,
      "outputs": [
        {
          "output_type": "stream",
          "text": [
            "Name:  Hamed Raza\n",
            "Age:  17\n"
          ],
          "name": "stdout"
        }
      ]
    },
    {
      "cell_type": "code",
      "metadata": {
        "id": "qkQwhqKC3fRW",
        "colab_type": "code",
        "colab": {}
      },
      "source": [
        ""
      ],
      "execution_count": null,
      "outputs": []
    },
    {
      "cell_type": "code",
      "metadata": {
        "id": "EX1U1YAC3hS8",
        "colab_type": "code",
        "colab": {}
      },
      "source": [
        ""
      ],
      "execution_count": null,
      "outputs": []
    },
    {
      "cell_type": "code",
      "metadata": {
        "id": "mrSGJZIY5C9k",
        "colab_type": "code",
        "colab": {}
      },
      "source": [
        ""
      ],
      "execution_count": null,
      "outputs": []
    }
  ]
}